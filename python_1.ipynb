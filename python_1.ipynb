{
  "nbformat": 4,
  "nbformat_minor": 0,
  "metadata": {
    "colab": {
      "provenance": [],
      "authorship_tag": "ABX9TyNnQjfAcK5I2TpJxD+OrcAS",
      "include_colab_link": true
    },
    "kernelspec": {
      "name": "python3",
      "display_name": "Python 3"
    },
    "language_info": {
      "name": "python"
    }
  },
  "cells": [
    {
      "cell_type": "markdown",
      "metadata": {
        "id": "view-in-github",
        "colab_type": "text"
      },
      "source": [
        "<a href=\"https://colab.research.google.com/github/Nikhil007nsg/python/blob/main/python_1.ipynb\" target=\"_parent\"><img src=\"https://colab.research.google.com/assets/colab-badge.svg\" alt=\"Open In Colab\"/></a>"
      ]
    },
    {
      "cell_type": "code",
      "execution_count": null,
      "metadata": {
        "colab": {
          "base_uri": "https://localhost:8080/"
        },
        "id": "JSQivFeWyMh5",
        "outputId": "63b8f6a0-ee50-4333-ddb4-95ef4ea735f7"
      },
      "outputs": [
        {
          "output_type": "stream",
          "name": "stdout",
          "text": [
            "Hello world\n"
          ]
        }
      ],
      "source": [
        "#python 1\n",
        "print('Hello world')"
      ]
    },
    {
      "cell_type": "code",
      "source": [
        "print('1407')"
      ],
      "metadata": {
        "colab": {
          "base_uri": "https://localhost:8080/"
        },
        "id": "cl-x8QoX04Id",
        "outputId": "aeb37c7f-c848-40b6-c9ca-23ee4b42e0a8"
      },
      "execution_count": null,
      "outputs": [
        {
          "output_type": "stream",
          "name": "stdout",
          "text": [
            "1407\n"
          ]
        }
      ]
    },
    {
      "cell_type": "code",
      "source": [
        "print(8)"
      ],
      "metadata": {
        "colab": {
          "base_uri": "https://localhost:8080/"
        },
        "id": "uVSDUFWe1LkS",
        "outputId": "ca819ba2-f014-4350-a359-0bd9f973d608"
      },
      "execution_count": null,
      "outputs": [
        {
          "output_type": "stream",
          "name": "stdout",
          "text": [
            "8\n"
          ]
        }
      ]
    },
    {
      "cell_type": "code",
      "source": [
        "print('nikhil',45,4.5,True)"
      ],
      "metadata": {
        "colab": {
          "base_uri": "https://localhost:8080/"
        },
        "id": "sJjKzUsQ1i4w",
        "outputId": "9a92402b-1d6a-46bd-a2a8-84f285d7e848"
      },
      "execution_count": null,
      "outputs": [
        {
          "output_type": "stream",
          "name": "stdout",
          "text": [
            "nikhil 45 4.5 True\n"
          ]
        }
      ]
    },
    {
      "cell_type": "code",
      "source": [
        "print('nikhil',45,4.5,True,sep='/')"
      ],
      "metadata": {
        "colab": {
          "base_uri": "https://localhost:8080/"
        },
        "id": "NbGMooPD2CK1",
        "outputId": "1656454b-7748-411b-a523-0b9dc72007c1"
      },
      "execution_count": null,
      "outputs": [
        {
          "output_type": "stream",
          "name": "stdout",
          "text": [
            "nikhil/45/4.5/True\n"
          ]
        }
      ]
    },
    {
      "cell_type": "code",
      "source": [
        "print('hello')\n",
        "print('world')"
      ],
      "metadata": {
        "colab": {
          "base_uri": "https://localhost:8080/"
        },
        "id": "QTE9suSg2lOs",
        "outputId": "873c419f-fbd4-4c7b-8209-50c91f023116"
      },
      "execution_count": null,
      "outputs": [
        {
          "output_type": "stream",
          "name": "stdout",
          "text": [
            "hello\n",
            "world\n"
          ]
        }
      ]
    },
    {
      "cell_type": "code",
      "source": [
        "print('hello',end='-')\n",
        "print('world')"
      ],
      "metadata": {
        "colab": {
          "base_uri": "https://localhost:8080/"
        },
        "id": "DGfSn8cu2uf4",
        "outputId": "25f76006-5ec2-44d2-abbc-6c349038a100"
      },
      "execution_count": null,
      "outputs": [
        {
          "output_type": "stream",
          "name": "stdout",
          "text": [
            "hello-world\n"
          ]
        }
      ]
    },
    {
      "cell_type": "markdown",
      "source": [
        "# 2. Data Types\n"
      ],
      "metadata": {
        "id": "Hy6BKx7s6cHf"
      }
    },
    {
      "cell_type": "code",
      "source": [
        "#Integer\n",
        "print(7)\n",
        "print(1e308)"
      ],
      "metadata": {
        "colab": {
          "base_uri": "https://localhost:8080/"
        },
        "id": "LY1ffFs36Z_r",
        "outputId": "d04ed898-1de8-4669-b08e-71b2cf574a7a"
      },
      "execution_count": null,
      "outputs": [
        {
          "output_type": "stream",
          "name": "stdout",
          "text": [
            "7\n",
            "1e+308\n"
          ]
        }
      ]
    },
    {
      "cell_type": "code",
      "source": [
        "#Decimal/float\n",
        "print(8.55)\n",
        "print(1.7e308)"
      ],
      "metadata": {
        "colab": {
          "base_uri": "https://localhost:8080/"
        },
        "id": "gve2FPIQ7anB",
        "outputId": "44e7ae86-b94b-4f76-cee7-4563aab7c42c"
      },
      "execution_count": null,
      "outputs": [
        {
          "output_type": "stream",
          "name": "stdout",
          "text": [
            "8.55\n",
            "1.7e+308\n"
          ]
        }
      ]
    },
    {
      "cell_type": "code",
      "source": [
        "#Boolean\n",
        "print(True)\n",
        "print(False)"
      ],
      "metadata": {
        "colab": {
          "base_uri": "https://localhost:8080/"
        },
        "id": "6hBY1y0q7m3q",
        "outputId": "cd2ba284-afb7-44dc-a938-23cd6b43cfdb"
      },
      "execution_count": null,
      "outputs": [
        {
          "output_type": "stream",
          "name": "stdout",
          "text": [
            "True\n",
            "False\n"
          ]
        }
      ]
    },
    {
      "cell_type": "code",
      "source": [
        "#text/string\n",
        "print('hello world')"
      ],
      "metadata": {
        "colab": {
          "base_uri": "https://localhost:8080/"
        },
        "id": "Kk-UKQv_70wP",
        "outputId": "87a77067-a157-43cf-fc2f-59a08480130d"
      },
      "execution_count": null,
      "outputs": [
        {
          "output_type": "stream",
          "name": "stdout",
          "text": [
            "hello world\n"
          ]
        }
      ]
    },
    {
      "cell_type": "code",
      "source": [
        "# complex\n",
        "print(5+6j)"
      ],
      "metadata": {
        "colab": {
          "base_uri": "https://localhost:8080/"
        },
        "id": "26a1BhOh9uiy",
        "outputId": "2908182b-dbb7-4f72-9a05-afa939462f9e"
      },
      "execution_count": null,
      "outputs": [
        {
          "output_type": "stream",
          "name": "stdout",
          "text": [
            "(5+6j)\n"
          ]
        }
      ]
    },
    {
      "cell_type": "code",
      "source": [
        "# List-> C-> Array\n",
        "print([1,2,3,4,5])"
      ],
      "metadata": {
        "colab": {
          "base_uri": "https://localhost:8080/"
        },
        "id": "C34X17dU_Yc4",
        "outputId": "1b824fa9-2131-4cb6-8dde-aa7e99d03ae6"
      },
      "execution_count": null,
      "outputs": [
        {
          "output_type": "stream",
          "name": "stdout",
          "text": [
            "[1, 2, 3, 4, 5]\n"
          ]
        }
      ]
    },
    {
      "cell_type": "code",
      "source": [
        "# Tuple\n",
        "print((1,2,3,4,5))"
      ],
      "metadata": {
        "colab": {
          "base_uri": "https://localhost:8080/"
        },
        "id": "k98jYIWB_r1y",
        "outputId": "cd3b80d8-9314-412c-c9fa-c0d9abc57a91"
      },
      "execution_count": null,
      "outputs": [
        {
          "output_type": "stream",
          "name": "stdout",
          "text": [
            "(1, 2, 3, 4, 5)\n"
          ]
        }
      ]
    },
    {
      "cell_type": "code",
      "source": [
        "# sets\n",
        "print({1,2,3,4,5})"
      ],
      "metadata": {
        "colab": {
          "base_uri": "https://localhost:8080/"
        },
        "id": "uQ_PFib9_1A8",
        "outputId": "99f7be57-e63a-433d-9cd5-99af5ce0e999"
      },
      "execution_count": null,
      "outputs": [
        {
          "output_type": "stream",
          "name": "stdout",
          "text": [
            "{1, 2, 3, 4, 5}\n"
          ]
        }
      ]
    },
    {
      "cell_type": "code",
      "source": [
        "# Dicitionary\n",
        "print({'name':'nikhil','gender':'male','weight':29})"
      ],
      "metadata": {
        "colab": {
          "base_uri": "https://localhost:8080/"
        },
        "id": "E0YuLxnxAApB",
        "outputId": "1a6102d0-bcd3-4a3f-95ac-9ae7ee34cd37"
      },
      "execution_count": null,
      "outputs": [
        {
          "output_type": "stream",
          "name": "stdout",
          "text": [
            "{'name': 'nikhil', 'gender': 'male', 'weight': 29}\n"
          ]
        }
      ]
    },
    {
      "cell_type": "code",
      "source": [
        "# type\n",
        "type ((1,2,3))"
      ],
      "metadata": {
        "colab": {
          "base_uri": "https://localhost:8080/"
        },
        "id": "WnFf2dSHDEaD",
        "outputId": "e2225e26-4e2b-4626-8dc1-e3777dd17069"
      },
      "execution_count": null,
      "outputs": [
        {
          "output_type": "execute_result",
          "data": {
            "text/plain": [
              "tuple"
            ]
          },
          "metadata": {},
          "execution_count": 19
        }
      ]
    },
    {
      "cell_type": "markdown",
      "source": [
        "# 3. variables"
      ],
      "metadata": {
        "id": "sFtD4fPd9OnY"
      }
    },
    {
      "cell_type": "code",
      "source": [
        "# static Vs Dynamic Typing\n",
        "# Static Vs Dynamic Binding\n",
        "# Stylish declaration techniques"
      ],
      "metadata": {
        "id": "JVi876kW9UxO"
      },
      "execution_count": null,
      "outputs": []
    },
    {
      "cell_type": "code",
      "source": [
        "# data type in python\n",
        "name = 'nikhil'\n",
        "print(name)\n",
        "a = 7\n",
        "b = 8\n",
        "print(a+b)"
      ],
      "metadata": {
        "colab": {
          "base_uri": "https://localhost:8080/"
        },
        "id": "1q1fc4OgPd9k",
        "outputId": "69b4ce19-bcdd-4076-c220-edb62274dbc0"
      },
      "execution_count": null,
      "outputs": [
        {
          "output_type": "stream",
          "name": "stdout",
          "text": [
            "nikhil\n",
            "15\n"
          ]
        }
      ]
    },
    {
      "cell_type": "code",
      "source": [
        "# Dynamic Typing...we are not telling the data type it automatically choose (support python)\n",
        "a = 9\n",
        "# static typing ..we are decleare the data type (support c c++)\n",
        "#int a = 5\n",
        "# Dynamic binding\n",
        "a = 5\n",
        "print(a)\n",
        "a = 'nikhil'\n",
        "print(a)\n"
      ],
      "metadata": {
        "colab": {
          "base_uri": "https://localhost:8080/"
        },
        "id": "UOkV1CUXQCQG",
        "outputId": "d25a2781-d821-456f-d606-227f35183cc3"
      },
      "execution_count": null,
      "outputs": [
        {
          "output_type": "stream",
          "name": "stdout",
          "text": [
            "5\n",
            "nikhil\n"
          ]
        }
      ]
    },
    {
      "cell_type": "code",
      "source": [
        "# Dynamic binding ...we can change data type like python it can hold any data type\n",
        "a = 5\n",
        "print(a)\n",
        "a = 'nikhil'\n",
        "print(a)\n",
        "\n",
        "# static binding ...we can not change the data type like c c++\n",
        "int a = 5"
      ],
      "metadata": {
        "colab": {
          "base_uri": "https://localhost:8080/"
        },
        "id": "gaIkT-oLWhK2",
        "outputId": "d4cebaa1-296a-4a5f-d031-311f683b7c1d"
      },
      "execution_count": null,
      "outputs": [
        {
          "output_type": "stream",
          "name": "stdout",
          "text": [
            "5\n",
            "nikhil\n"
          ]
        }
      ]
    },
    {
      "cell_type": "code",
      "source": [
        "a = 1\n",
        "b = 2\n",
        "c = 3\n",
        "print(a,b,c)"
      ],
      "metadata": {
        "colab": {
          "base_uri": "https://localhost:8080/"
        },
        "id": "d6MK4BDIXq_w",
        "outputId": "8ff88082-8139-41df-ec8e-c0281560f307"
      },
      "execution_count": null,
      "outputs": [
        {
          "output_type": "stream",
          "name": "stdout",
          "text": [
            "1 2 3\n"
          ]
        }
      ]
    },
    {
      "cell_type": "code",
      "source": [
        "a,b,c = 1,2,3\n",
        "print(a,b,c)"
      ],
      "metadata": {
        "colab": {
          "base_uri": "https://localhost:8080/"
        },
        "id": "gd5npQlqX4Y-",
        "outputId": "666b2f48-529e-4662-dc37-019df150d6ef"
      },
      "execution_count": null,
      "outputs": [
        {
          "output_type": "stream",
          "name": "stdout",
          "text": [
            "1 2 3\n"
          ]
        }
      ]
    },
    {
      "cell_type": "markdown",
      "source": [
        "# 4.Keywords & Identifiers"
      ],
      "metadata": {
        "id": "iAq28vDtazFj"
      }
    },
    {
      "cell_type": "code",
      "source": [
        "# keywords\n",
        "False\tawait\telse\timport\tpass\n",
        "None\tbreak\texcept\tin\traise\n",
        "True\tclass\tfinally\tis\treturn\n",
        "and\tcontinue\tfor\tlambda\ttry\n",
        "as\tdef\tfrom\tnonlocal\twhile\n",
        "assert\tdel\tglobal\tnot\twith\n",
        "async\telif\tif\tor\tyield"
      ],
      "metadata": {
        "id": "FpPwN1lvcBJH"
      },
      "execution_count": null,
      "outputs": []
    },
    {
      "cell_type": "code",
      "source": [
        "# Identifiers\n",
        "#1 you can't start with a digit\n",
        "#1name = 'nikhil' ...wrong\n",
        "name1 = 'nikhil'  #...correct\n",
        "print(name1)   #... it will work\n",
        "#2 you can use special char -> _\n",
        "#first-name = 'nikhil' ....its wrong\n",
        "first_name = 'nikhil' #.. its correct\n",
        "print(first_name)    #....it will work\n",
        "#3\n",
        "_ = 'milind'\n",
        "print(_)\n",
        "# identifiers can not be keyworked\n"
      ],
      "metadata": {
        "colab": {
          "base_uri": "https://localhost:8080/"
        },
        "id": "Onc_tJPPcKzJ",
        "outputId": "12e32a82-7443-48db-aa64-ddf534f4c603"
      },
      "execution_count": null,
      "outputs": [
        {
          "output_type": "stream",
          "name": "stdout",
          "text": [
            "nikhil\n",
            "nikhil\n",
            "milind\n"
          ]
        }
      ]
    },
    {
      "cell_type": "markdown",
      "source": [
        "# 5.User Input"
      ],
      "metadata": {
        "id": "CZ_Uv5tUgDgq"
      }
    },
    {
      "cell_type": "code",
      "source": [
        "# static Vs Dynamic\n",
        "input('what is your name')"
      ],
      "metadata": {
        "colab": {
          "base_uri": "https://localhost:8080/",
          "height": 53
        },
        "id": "iCONUWGjgIKv",
        "outputId": "08751e89-15e6-4675-b54a-e1875d19b41c"
      },
      "execution_count": null,
      "outputs": [
        {
          "name": "stdout",
          "output_type": "stream",
          "text": [
            "what is your namenikhil\n"
          ]
        },
        {
          "output_type": "execute_result",
          "data": {
            "text/plain": [
              "'nikhil'"
            ],
            "application/vnd.google.colaboratory.intrinsic+json": {
              "type": "string"
            }
          },
          "metadata": {},
          "execution_count": 31
        }
      ]
    },
    {
      "cell_type": "code",
      "source": [
        "input('Enter Email')"
      ],
      "metadata": {
        "colab": {
          "base_uri": "https://localhost:8080/",
          "height": 53
        },
        "id": "XR9VAfexgktj",
        "outputId": "90f85228-de6c-4b30-b93a-f78a1458bcaf"
      },
      "execution_count": null,
      "outputs": [
        {
          "name": "stdout",
          "output_type": "stream",
          "text": [
            "Enter Emailnick007nsg@gmail.com\n"
          ]
        },
        {
          "output_type": "execute_result",
          "data": {
            "text/plain": [
              "'nick007nsg@gmail.com'"
            ],
            "application/vnd.google.colaboratory.intrinsic+json": {
              "type": "string"
            }
          },
          "metadata": {},
          "execution_count": 33
        }
      ]
    },
    {
      "cell_type": "code",
      "source": [
        "# take input from users and store them in a variables\n",
        "a = int(input('Enter first number'))\n",
        "b = int(input('Enter second number'))\n",
        "# add two variables\n",
        "#results = int(a) + int(b)\n",
        "# result\n",
        "print(results)\n",
        "print(type(a))"
      ],
      "metadata": {
        "colab": {
          "base_uri": "https://localhost:8080/"
        },
        "id": "7OXxbWpogqdW",
        "outputId": "46e5cd91-4936-4f56-810c-884e7c634bc8"
      },
      "execution_count": null,
      "outputs": [
        {
          "output_type": "stream",
          "name": "stdout",
          "text": [
            "Enter first number50\n",
            "Enter second number50\n",
            "100\n",
            "<class 'int'>\n"
          ]
        }
      ]
    },
    {
      "cell_type": "markdown",
      "source": [
        "# 6.Type Conversion"
      ],
      "metadata": {
        "id": "CcWtrp7UqwVP"
      }
    },
    {
      "cell_type": "code",
      "source": [
        "# Implicit Vs Explicit\n",
        "print(5+5.7) # implicit type conversion not work every time\n",
        "print(type(5),type(5.7))"
      ],
      "metadata": {
        "colab": {
          "base_uri": "https://localhost:8080/"
        },
        "id": "TDHMkihkq010",
        "outputId": "e78919c6-4d7f-4c62-a1b7-0b25e0f04725"
      },
      "execution_count": null,
      "outputs": [
        {
          "output_type": "stream",
          "name": "stdout",
          "text": [
            "10.7\n",
            "<class 'int'> <class 'float'>\n"
          ]
        }
      ]
    },
    {
      "cell_type": "code",
      "source": [
        "# explicit\n",
        "# str -> int\n",
        "int(4.9)\n",
        "#int to str\n",
        "#str(8)\n",
        "#float\n",
        "#float(4)\n"
      ],
      "metadata": {
        "colab": {
          "base_uri": "https://localhost:8080/"
        },
        "id": "4p8m_VIkrPB0",
        "outputId": "66d27e6f-7967-465d-ae6b-116b31330f38"
      },
      "execution_count": null,
      "outputs": [
        {
          "output_type": "execute_result",
          "data": {
            "text/plain": [
              "4"
            ]
          },
          "metadata": {},
          "execution_count": 12
        }
      ]
    },
    {
      "cell_type": "markdown",
      "source": [
        "# 7.Literals"
      ],
      "metadata": {
        "id": "gwuQUXx7t0wX"
      }
    },
    {
      "cell_type": "code",
      "source": [
        "# in variable we stored the value called Literals\n",
        "a = 0b1010   # binary literals\n",
        "b = 100      # decimal literals\n",
        "c = 0o310    # octal literals\n",
        "d = 0x12c    # hexadecimal\n",
        "\n",
        "#Float literals\n",
        "float_1 = 10.5\n",
        "float_2 = 1.5e2  # 1.5 * 10^2\n",
        "float_3 = 1.5e-3 #  1.5 * 10^-3\n",
        "\n",
        "#complex literals\n",
        "x = 3.14j\n",
        "\n",
        "print(a,b,c,d)\n",
        "print(float_1,float_2,float_3)\n",
        "print(x, x.img, x.real)\n"
      ],
      "metadata": {
        "id": "hV2o6b5Lr5ya"
      },
      "execution_count": null,
      "outputs": []
    },
    {
      "cell_type": "code",
      "source": [
        "a = 0b1010\n",
        "print(a)\n",
        "b = 0o310\n",
        "print(b)\n",
        "c = 0x12c\n",
        "print(c)"
      ],
      "metadata": {
        "colab": {
          "base_uri": "https://localhost:8080/"
        },
        "id": "2Z_5PHvLvHPW",
        "outputId": "612b6c42-1397-48c9-8b83-ff0a1751a6b4"
      },
      "execution_count": null,
      "outputs": [
        {
          "output_type": "stream",
          "name": "stdout",
          "text": [
            "10\n",
            "200\n",
            "300\n"
          ]
        }
      ]
    },
    {
      "cell_type": "code",
      "source": [
        "# binary\n",
        "c = 0o310\n",
        "print(1.5e-3)"
      ],
      "metadata": {
        "colab": {
          "base_uri": "https://localhost:8080/"
        },
        "id": "yX9czFB7w_5F",
        "outputId": "42cde5bd-2db6-4005-e1e1-c62783401db5"
      },
      "execution_count": null,
      "outputs": [
        {
          "output_type": "stream",
          "name": "stdout",
          "text": [
            "0.0015\n"
          ]
        }
      ]
    },
    {
      "cell_type": "code",
      "source": [
        "x = 3.14j\n",
        "print(x.imag)\n"
      ],
      "metadata": {
        "colab": {
          "base_uri": "https://localhost:8080/"
        },
        "id": "3JhB_yvLyYH-",
        "outputId": "fa682d78-e1fe-4d24-b524-1e2960055d72"
      },
      "execution_count": null,
      "outputs": [
        {
          "output_type": "stream",
          "name": "stdout",
          "text": [
            "3.14\n"
          ]
        }
      ]
    },
    {
      "cell_type": "code",
      "source": [
        "### how to write in a string\n",
        "string = 'this is python'\n",
        "strings = \"this is python\"\n",
        "char = \"c\"\n",
        "multiline_str = \"\"\"this is a multiline string with more than one line code\"\"\"\n",
        "unicode = u\"\\U0001F600\\U0001F606\\U0001F923\"\n",
        "raw_str = r\"raw \\n string\"\n",
        "\n",
        "print(string)\n",
        "print(strings)\n",
        "print(char)\n",
        "print(multiline_str)\n",
        "print(unicode)\n",
        "print(raw_str)\n"
      ],
      "metadata": {
        "colab": {
          "base_uri": "https://localhost:8080/"
        },
        "id": "NZMiHqJZ2Q6U",
        "outputId": "4616535d-d43a-490e-9164-ba2a80b8d1eb"
      },
      "execution_count": null,
      "outputs": [
        {
          "output_type": "stream",
          "name": "stdout",
          "text": [
            "this is python\n",
            "this is python\n",
            "c\n",
            "this is a multiline string with more than one line code\n",
            "😀😆🤣\n",
            "raw \\n string\n"
          ]
        }
      ]
    },
    {
      "cell_type": "code",
      "source": [
        "##boolean\n",
        "a = True + 5\n",
        "b = False + 20\n",
        "print(\"a:\",a)\n",
        "print(\"b:\",b)"
      ],
      "metadata": {
        "colab": {
          "base_uri": "https://localhost:8080/"
        },
        "id": "t0Y2EMde4KKY",
        "outputId": "e412885a-c26e-4f3a-9ea8-7c372a4799e8"
      },
      "execution_count": null,
      "outputs": [
        {
          "output_type": "stream",
          "name": "stdout",
          "text": [
            "a: 6\n",
            "b: 20\n"
          ]
        }
      ]
    },
    {
      "cell_type": "code",
      "source": [
        "a = None\n",
        "print(a)"
      ],
      "metadata": {
        "id": "Cdg5BCpl4oR7",
        "outputId": "5742893e-1858-4496-807c-337689a90d2d",
        "colab": {
          "base_uri": "https://localhost:8080/"
        }
      },
      "execution_count": null,
      "outputs": [
        {
          "output_type": "stream",
          "name": "stdout",
          "text": [
            "None\n"
          ]
        }
      ]
    }
  ]
}