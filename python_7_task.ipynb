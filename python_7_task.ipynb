{
  "nbformat": 4,
  "nbformat_minor": 0,
  "metadata": {
    "colab": {
      "provenance": [],
      "include_colab_link": true
    },
    "kernelspec": {
      "name": "python3",
      "display_name": "Python 3"
    },
    "language_info": {
      "name": "python"
    }
  },
  "cells": [
    {
      "cell_type": "markdown",
      "metadata": {
        "id": "view-in-github",
        "colab_type": "text"
      },
      "source": [
        "<a href=\"https://colab.research.google.com/github/Nikhil007nsg/python/blob/main/python_7_task.ipynb\" target=\"_parent\"><img src=\"https://colab.research.google.com/assets/colab-badge.svg\" alt=\"Open In Colab\"/></a>"
      ]
    },
    {
      "cell_type": "markdown",
      "source": [
        "##`Q-1:` Rectangle Class\n",
        "1. Write a Rectangle class in Python language, allowing you to build a rectangle with length and width attributes.\n",
        "\n",
        "2. Create a Perimeter() method to calculate the perimeter of the rectangle and a Area() method to calculate the area of ​​the rectangle.\n",
        "\n",
        "3. Create a method display() that display the length, width, perimeter and area of an object created using an instantiation on rectangle class."
      ],
      "metadata": {
        "id": "FyUJ3PRAsPr4"
      }
    },
    {
      "cell_type": "markdown",
      "source": [
        "Eg.\n",
        "After making above classes and methods, on executing below code:-\n",
        "```\n",
        "my_rectangle = Rectangle(3 , 4)\n",
        "my_rectangle.display()\n",
        "```\n",
        "\n",
        "`Output:`\n",
        "```\n",
        "The length of rectangle is:  3\n",
        "The width of rectangle is:  4\n",
        "The perimeter of rectangle is:  14\n",
        "The area of rectangle is:  12\n",
        "```\n"
      ],
      "metadata": {
        "id": "GxUtOqJfssFK"
      }
    },
    {
      "cell_type": "code",
      "source": [
        "# write your code here\n",
        "class rectangle:\n",
        "  def __init__(self,length,breath):\n",
        "    self.length = length\n",
        "    self.breath = breath\n",
        "\n",
        "  def Perimeter(self):\n",
        "    return 2 * (self.length + self.breath)\n",
        "\n",
        "  def Area(self):\n",
        "    return self.length * self.breath\n",
        "\n",
        "  def display(self):\n",
        "    print(\"The length of rectangle is\", self.length)\n",
        "    print(\"The width of rectangle is\", self.breath)\n",
        "    print(\"The perimeter of rectangle is\", self.Perimeter())\n",
        "    print(\"the Area of rectangle is\", self.Area())"
      ],
      "metadata": {
        "id": "ZnRFoRivDXqb"
      },
      "execution_count": 32,
      "outputs": []
    },
    {
      "cell_type": "code",
      "source": [
        "my_rectangle = rectangle(3,4)\n",
        "my_rectangle.display()"
      ],
      "metadata": {
        "colab": {
          "base_uri": "https://localhost:8080/"
        },
        "id": "qB4a9lAjD9SD",
        "outputId": "11d3c36f-7c81-4b38-ebea-28a1091c78dc"
      },
      "execution_count": 33,
      "outputs": [
        {
          "output_type": "stream",
          "name": "stdout",
          "text": [
            "The length of rectangle is 3\n",
            "The width of rectangle is 4\n",
            "The perimeter of rectangle is 14\n",
            "the Area of rectangle is 12\n"
          ]
        }
      ]
    },
    {
      "cell_type": "markdown",
      "source": [
        "##`Q-2: Bank Class`\n",
        "\n",
        "1. Create a Python class called `BankAccount` which represents a bank account, having as attributes: `accountNumber` (numeric type), `name` (name of the account owner as string type), `balance`.\n",
        "2. Create a constructor with parameters: `accountNumber, name, balance`.\n",
        "3. Create a `Deposit()` method which manages the deposit actions.\n",
        "4. Create a `Withdrawal()` method  which manages withdrawals actions.\n",
        "5. Create an `bankFees()` method to apply the bank fees with a percentage of 5% of the balance account.\n",
        "6. Create a `display()` method to display account details.\n",
        "Give the complete code for the  BankAccount class."
      ],
      "metadata": {
        "id": "r_GxrS0Vrdom"
      }
    },
    {
      "cell_type": "markdown",
      "source": [
        "Eg.\n",
        "After making above classes and methods, on executing below code:-\n",
        "```\n",
        "newAccount = BankAccount(2178514584, \"Mandy\" , 2800)\n",
        "\n",
        "newAccount.Withdrawal(700)\n",
        "\n",
        "newAccount.Deposit(1000)\n",
        "\n",
        "newAccount.display()\n",
        "```\n",
        "\n",
        "`Output:`\n",
        "```\n",
        "Account Number :  2178514584\n",
        "Account Name :  Mandy\n",
        "Account Balance :  3100 ₹\n",
        "```"
      ],
      "metadata": {
        "id": "qvVkOUJgvTV_"
      }
    },
    {
      "cell_type": "code",
      "source": [
        "# write your code here\n",
        "class BankAccount:\n",
        "  def __init__(self,accountnumber,balance,name):\n",
        "    self.accountnumber = accountnumber\n",
        "    self.balance = balance\n",
        "    self.name = name\n",
        "\n",
        "  def Deposit(self,amount):\n",
        "    self.balance += amount\n",
        "   # print(f\"Deposit of {amount} Rs successful. New balance is Rs {self.balance}\")\n",
        "    return self.balance\n",
        "  def withdrawal(self,amount):\n",
        "    if amount >= self.balance:\n",
        "      print(\"Insufficient Balance.\")\n",
        "    else:\n",
        "      self.balance -= amount\n",
        "    #  print(f\"withdrwal of {amount} Rs successful. New balance is Rs {self.balance} \")\n",
        "      return self.balance\n",
        "\n",
        "  def bankfees(self):\n",
        "    bankfess_percent = 5\n",
        "    fees_amount = ( bankfess_percent / 100 ) * self.balnce\n",
        "    self.balance -= fees_amount\n",
        "   # print(f\"Bank fees {fees_amount} % applied.New Balance is Rs {self.balance} \")\n",
        "    return self.balnce\n",
        "\n",
        "  def display(self):\n",
        "    print(\"Account number:\", self.accountnumber)\n",
        "    print(\"Account Balance:\", self.balance)\n",
        "    print(\"Account Name:\", self.name)\n",
        "\n"
      ],
      "metadata": {
        "id": "fUQOmQyA6YDR"
      },
      "execution_count": 62,
      "outputs": []
    },
    {
      "cell_type": "code",
      "source": [
        "newAccount = BankAccount(accountnumber=2178514584, name=\"nick\",balance=3000)\n",
        "newAccount.withdrawal(700)\n",
        "newAccount.Deposit(1000)\n",
        "newAccount.display()\n"
      ],
      "metadata": {
        "colab": {
          "base_uri": "https://localhost:8080/"
        },
        "id": "mdmcCPC380-8",
        "outputId": "bfde1162-b6bf-4caf-8207-25cd7a7477bb"
      },
      "execution_count": 63,
      "outputs": [
        {
          "output_type": "stream",
          "name": "stdout",
          "text": [
            "Account number: 2178514584\n",
            "Account Balance: 3300\n",
            "Account Name: nick\n"
          ]
        }
      ]
    },
    {
      "cell_type": "markdown",
      "source": [
        "##`Q-3:Computation class`\n",
        "\n",
        "1. Create a `Computation` class with a default constructor (without parameters) allowing to perform various calculations on integers numbers.\n",
        "2. Create a method called `Factorial()` which allows to calculate the factorial of an integer n. Integer n as parameter for this method\n",
        "\n",
        "3. Create a method called `naturalSum()` allowing to calculate the sum of the first n integers 1 + 2 + 3 + .. + n. Integer n as parameter for this method.\n",
        "\n",
        "4. Create a method called `testPrime()` in  the Calculation class to test the primality of a given integer n, n is Prime or Not? Integer n as parameter for this method.\n",
        "\n",
        "5. Create  a method called `testPrims()` allowing to test if two numbers are prime between them. Two integers are prime to one another if they have only `1` as their common divisor. Eg. 4 and 9 are prime to each other.\n",
        "\n",
        "5. Create a `tableMult()` method which creates and displays the multiplication table of a given integer. Then create an `allTablesMult()` method to display all the integer multiplication tables 1, 2, 3, ..., 9.\n",
        "\n",
        "6. Create a static `listDiv()` method that gets all the divisors of a given integer on new list called  Ldiv. Create another `listDivPrim()` method that gets all the prime divisors of a given integer."
      ],
      "metadata": {
        "id": "QovcQAZTrgGU"
      }
    },
    {
      "cell_type": "code",
      "source": [
        "# write your code here\n",
        "class Computation:\n",
        "    def Factorial(self, n):\n",
        "        if n == 0 or n == 1:\n",
        "            return 1\n",
        "        else:\n",
        "            return n * self.Factorial(n - 1)\n",
        "\n",
        "    def naturalSum(self, n):\n",
        "        return n * (n + 1) // 2\n",
        "\n",
        "    def testPrime(self, n):\n",
        "        if n < 2:\n",
        "            return False\n",
        "        for i in range(2, int(n**0.5) + 1):\n",
        "            if n % i == 0:\n",
        "                return False\n",
        "        return True\n",
        "\n",
        "    def testPrims(self, num1, num2):\n",
        "        return self.testPrime(num1) and self.testPrime(num2)\n",
        "\n",
        "    def tableMult(self, n):\n",
        "        for i in range(1, 11):\n",
        "            print(f\"{n} * {i} = {n*i}\")\n",
        "\n",
        "    @staticmethod\n",
        "    def listDiv(n):\n",
        "        Ldiv = [i for i in range(1, n+1) if n % i == 0]\n",
        "        return Ldiv\n",
        "\n",
        "    @staticmethod\n",
        "    def listDivPrim(n):\n",
        "        Ldiv = Computation.listDiv(n)\n",
        "        return [num for num in Ldiv if Computation.testPrime(num)]\n",
        "\n",
        "    @staticmethod\n",
        "    def allTablesMult():\n",
        "        for i in range(1, 10):\n",
        "            Computation.tableMult(i)\n",
        "\n",
        "# # Example usage:\n",
        "# comp = Computation()\n",
        "# print(f\"Factorial of 5: {comp.Factorial(5)}\")\n",
        "# print(f\"Sum of first 5 integers: {comp.naturalSum(5)}\")\n",
        "# print(f\"Is 7 Prime? {comp.testPrime(7)}\")\n",
        "# print(f\"Are 4 and 9 prime to each other? {comp.testPrims(4, 9)}\")\n",
        "# print(\"Multiplication table for 7:\")\n",
        "# comp.tableMult(7)\n",
        "# print(\"All multiplication tables:\")\n",
        "# Computation.allTablesMult()\n",
        "# print(\"Divisors of 12:\", Computation.listDiv(12))\n",
        "# print(\"Prime divisors of 12:\", Computation.listDivPrim(12))\n"
      ],
      "metadata": {
        "id": "YEkPH70l6Z-o"
      },
      "execution_count": 89,
      "outputs": []
    },
    {
      "cell_type": "code",
      "source": [
        "comp = Computation()\n",
        "print(f\"Factorial of 5: {comp.Factorial(5)}\")\n",
        "print(f\"Sum of first 5 integers: {comp.naturalSum(5)}\")\n",
        "print(f\"Is 7 Prime? {comp.testPrime(7)}\")\n",
        "print(f\"Are 4 and 9 prime to each other? {comp.testPrims(4, 9)}\")\n",
        "print(\"Multiplication table for 7:\")\n",
        "\n",
        "\n"
      ],
      "metadata": {
        "colab": {
          "base_uri": "https://localhost:8080/"
        },
        "id": "hy5GZrt_FyHh",
        "outputId": "2d259d05-eca1-45dc-9ad0-ae797cc89688"
      },
      "execution_count": 90,
      "outputs": [
        {
          "output_type": "stream",
          "name": "stdout",
          "text": [
            "Factorial of 5: 120\n",
            "Sum of first 5 integers: 15\n",
            "Is 7 Prime? True\n",
            "Are 4 and 9 prime to each other? False\n",
            "Multiplication table for 7:\n"
          ]
        }
      ]
    },
    {
      "cell_type": "code",
      "source": [
        "comp.tableMult(7)\n",
        "print(\"All multiplication tables:\")\n",
        "\n"
      ],
      "metadata": {
        "colab": {
          "base_uri": "https://localhost:8080/"
        },
        "id": "GpThu1xGGIlN",
        "outputId": "ea6991f3-60cb-4dd8-f2a1-35c0cb7db975"
      },
      "execution_count": 91,
      "outputs": [
        {
          "output_type": "stream",
          "name": "stdout",
          "text": [
            "7 * 1 = 7\n",
            "7 * 2 = 14\n",
            "7 * 3 = 21\n",
            "7 * 4 = 28\n",
            "7 * 5 = 35\n",
            "7 * 6 = 42\n",
            "7 * 7 = 49\n",
            "7 * 8 = 56\n",
            "7 * 9 = 63\n",
            "7 * 10 = 70\n",
            "All multiplication tables:\n"
          ]
        }
      ]
    },
    {
      "cell_type": "code",
      "source": [
        "Computation.allTablesMult(10)"
      ],
      "metadata": {
        "colab": {
          "base_uri": "https://localhost:8080/",
          "height": 141
        },
        "id": "XqeriaoZGQ0h",
        "outputId": "c95c78d5-f68e-48d9-c4a3-a5a334ca6a08"
      },
      "execution_count": 93,
      "outputs": [
        {
          "output_type": "error",
          "ename": "TypeError",
          "evalue": "Computation.allTablesMult() takes 0 positional arguments but 1 was given",
          "traceback": [
            "\u001b[0;31m---------------------------------------------------------------------------\u001b[0m",
            "\u001b[0;31mTypeError\u001b[0m                                 Traceback (most recent call last)",
            "\u001b[0;32m<ipython-input-93-a904a983b4c4>\u001b[0m in \u001b[0;36m<cell line: 1>\u001b[0;34m()\u001b[0m\n\u001b[0;32m----> 1\u001b[0;31m \u001b[0mComputation\u001b[0m\u001b[0;34m.\u001b[0m\u001b[0mallTablesMult\u001b[0m\u001b[0;34m(\u001b[0m\u001b[0;36m10\u001b[0m\u001b[0;34m)\u001b[0m\u001b[0;34m\u001b[0m\u001b[0;34m\u001b[0m\u001b[0m\n\u001b[0m",
            "\u001b[0;31mTypeError\u001b[0m: Computation.allTablesMult() takes 0 positional arguments but 1 was given"
          ]
        }
      ]
    },
    {
      "cell_type": "markdown",
      "source": [
        "##`Q-4`: Build flashcard using class in Python.\n",
        "\n",
        "Build a flashcard using class in python. A flashcard is a card having information on both sides, which can be used as an aid in memoization. Flashcards usually have a question on one side and an answer on the other.\n",
        "\n",
        "**Example 1:**\n",
        "\n",
        "Approach:\n",
        "\n",
        "- Create a class named FlashCard.\n",
        "- Initialize dictionary fruits using __init__() method. Here you have to define fruit name as key and it's color as value. E.g., {\"Banana\": \"yellow\", \"Strawberries\": \"pink\"}\n",
        "- Now randomly choose a pair from fruits by using _random_ module and store the key in variable _fruit_ and _value_ in variable color.\n",
        "- Now prompt the user to answer the color of the randomly chosen fruit.\n",
        "- If correct print correct else print wrong.\n",
        "\n",
        "Output:\n",
        "```bash\n",
        "welcome to fruit quiz\n",
        "What is the color of Strawberries\n",
        "pink\n",
        "Correct answer\n",
        "Enter 0, if you want to play again: 0\n",
        "What is the color of watermelon\n",
        "green\n",
        "Correct answer\n",
        "Enter 0, if you want to play again: 1\n",
        "```"
      ],
      "metadata": {
        "id": "0yn23_oEriXa"
      }
    },
    {
      "cell_type": "code",
      "source": [
        "# write your code here\n",
        "import random\n",
        "\n",
        "class FlashCard:\n",
        "    def __init__(self):\n",
        "        # Initialize a dictionary with fruit names as keys and their colors as values\n",
        "        self.fruits = {\"Banana\": \"yellow\", \"Strawberries\": \"pink\", \"Watermelon\": \"green\", \"Apple\": \"red\"}\n",
        "\n",
        "    def play_quiz(self):\n",
        "        print(\"Welcome to the fruit quiz!\")\n",
        "\n",
        "        while True:\n",
        "            # Randomly choose a fruit-color pair\n",
        "            fruit, color = random.choice(list(self.fruits.items()))\n",
        "\n",
        "            # Prompt the user to answer the color of the randomly chosen fruit\n",
        "            user_answer = input(f\"What is the color of {fruit}?\\n\")\n",
        "\n",
        "            # Check if the user's answer is correct\n",
        "            if user_answer.lower() == color.lower():\n",
        "                print(\"Correct answer!\")\n",
        "            else:\n",
        "                print(f\"Wrong answer. The correct color is {color}.\")\n",
        "\n",
        "            play_again = input(\"Enter 0 if you want to play again, or 1 to exit: \")\n",
        "            if play_again == '1':\n",
        "                break\n",
        "\n",
        "# Example usage:\n",
        "# flashcard_game = FlashCard()\n",
        "# flashcard_game.play_quiz()\n"
      ],
      "metadata": {
        "id": "vCrUF6VU6l6w"
      },
      "execution_count": 94,
      "outputs": []
    },
    {
      "cell_type": "code",
      "source": [
        "flashcard_game = FlashCard()\n",
        "\n",
        "flashcard_game.play_quiz()"
      ],
      "metadata": {
        "colab": {
          "base_uri": "https://localhost:8080/"
        },
        "id": "gC1F2ZYnOM5y",
        "outputId": "5aa3b68d-6680-48c1-c07b-428c93c52e02"
      },
      "execution_count": 95,
      "outputs": [
        {
          "name": "stdout",
          "output_type": "stream",
          "text": [
            "Welcome to the fruit quiz!\n",
            "What is the color of Banana?\n",
            "0\n",
            "Wrong answer. The correct color is yellow.\n",
            "Enter 0 if you want to play again, or 1 to exit: 0\n",
            "What is the color of Apple?\n",
            "1\n",
            "Wrong answer. The correct color is red.\n",
            "Enter 0 if you want to play again, or 1 to exit: 0\n",
            "What is the color of Strawberries?\n",
            "red\n",
            "Wrong answer. The correct color is pink.\n",
            "Enter 0 if you want to play again, or 1 to exit: 0\n",
            "What is the color of Banana?\n",
            "yellow\n",
            "Correct answer!\n",
            "Enter 0 if you want to play again, or 1 to exit: 1\n"
          ]
        }
      ]
    },
    {
      "cell_type": "markdown",
      "source": [
        "## `Q-5:` Problem 5 based on OOP Python.\n",
        "\n",
        "TechWorld, a technology training center, wants to allocate courses for instructors. An instructor is identified by name, technology skills, experience and average feedback. An instructor is allocated a course, if he/she satisfies the below two conditions:\n",
        "- eligibility criteria:\n",
        "    - if experience is more than 3 years, average feedback should be 4.5 or more\n",
        "    - if experience is 3 years or less, average feedback should be 4 or more\n",
        "- he/she should posses the technology skill for the course\n",
        "\n",
        "Identify the class name and attributes to represent instructors. Write a Python program to implement the class chosen with its attributes and methods.\n",
        "\n",
        "**Note:**\n",
        "- Consider all instance variables to be private and methods to be public.\n",
        "- An instructor may have multiple technology skills, so consider instance variable, technology_skill to be a list.\n",
        "- *check_eligibility()*: Return true if eligibility criteria is satisfied by the instructor. Else, return false\n",
        "- *allocate_course(technology)*: Return true if the course which requires the given technology can be allocated to the instructor. Else, return false.\n",
        "\n",
        "Represent a few objects of the class, initialize instance variables using setter methods, invoke\n",
        "appropriate methods and test your program."
      ],
      "metadata": {
        "id": "GN2r0jbRewYr"
      }
    },
    {
      "cell_type": "code",
      "source": [
        "class Instructor:\n",
        "    def __init__(self, name, experience, average_feedback, technology_skills=[]):\n",
        "        self.name = name\n",
        "        self.experience = experience\n",
        "        self.average_feedback = average_feedback\n",
        "        self.technology_skills = technology_skills\n",
        "\n",
        "    def get_name(self):\n",
        "        return self.name\n",
        "\n",
        "    def get_experience(self):\n",
        "        return self.experience\n",
        "\n",
        "    def get_average_feedback(self):\n",
        "        return self.average_feedback\n",
        "\n",
        "    def get_technology_skills(self):\n",
        "        return self.technology_skills\n",
        "\n",
        "    def set_experience(self, experience):\n",
        "        self.experience = experience\n",
        "\n",
        "    def set_average_feedback(self, average_feedback):\n",
        "        self.average_feedback = average_feedback\n",
        "\n",
        "    def set_technology_skills(self, technology_skills):\n",
        "        self.technology_skills = technology_skills\n",
        "\n",
        "    def check_eligibility(self):\n",
        "        if self.experience > 3 and self.average_feedback >= 4.5:\n",
        "            return True\n",
        "        elif self.experience <= 3 and self.average_feedback >= 4:\n",
        "            return True\n",
        "        else:\n",
        "            return False\n",
        "\n",
        "    def allocate_course(self, required_technology):\n",
        "        if required_technology in self.__technology_skills:\n",
        "            return True\n",
        "        else:\n",
        "            return False\n",
        "\n",
        "\n",
        "# Example usage:\n",
        "# instructor1 = Instructor(\"John\", 4, 4.7, [\"Python\", \"Java\"])\n",
        "# instructor2 = Instructor(\"Alice\", 2, 4.2, [\"JavaScript\", \"HTML\"])\n",
        "\n",
        "# print(f\"{instructor1.get_name()} is eligible: {instructor1.check_eligibility()}\")\n",
        "# print(f\"{instructor2.get_name()} is eligible: {instructor2.check_eligibility()}\")\n",
        "\n",
        "# course_technology = \"Python\"\n",
        "# print(f\"{instructor1.get_name()} can be allocated the course requiring {course_technology}: {instructor1.allocate_course(course_technology)}\")\n",
        "# print(f\"{instructor2.get_name()} can be allocated the course requiring {course_technology}: {instructor2.allocate_course(course_technology)}\")\n"
      ],
      "metadata": {
        "id": "MrbBFyGMQL_5"
      },
      "execution_count": 96,
      "outputs": []
    },
    {
      "cell_type": "code",
      "source": [
        " instructor1 = Instructor(\"John\", 4, 4.7, [\"Python\", \"Java\"])\n",
        " instructor2 = Instructor(\"Alice\", 2, 4.2, [\"JavaScript\", \"HTML\"])"
      ],
      "metadata": {
        "id": "WT_jasqMQL0h"
      },
      "execution_count": 99,
      "outputs": []
    },
    {
      "cell_type": "code",
      "source": [
        "course_technology = \"Python\""
      ],
      "metadata": {
        "id": "K2jLO2FBRS4Q"
      },
      "execution_count": 100,
      "outputs": []
    },
    {
      "cell_type": "code",
      "source": [],
      "metadata": {
        "id": "UEivv1VhRSwQ"
      },
      "execution_count": null,
      "outputs": []
    },
    {
      "cell_type": "code",
      "source": [
        "# write your code here"
      ],
      "metadata": {
        "id": "pdMFuVFnlvKL"
      },
      "execution_count": null,
      "outputs": []
    }
  ]
}